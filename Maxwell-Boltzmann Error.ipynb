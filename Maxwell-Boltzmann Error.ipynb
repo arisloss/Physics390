{
 "cells": [
  {
   "cell_type": "code",
   "execution_count": 15,
   "id": "cb40aadd",
   "metadata": {},
   "outputs": [],
   "source": [
    "import numpy as np\n",
    "import scipy as sp\n",
    "import scipy.optimize\n",
    "import matplotlib.pyplot as plt"
   ]
  },
  {
   "cell_type": "markdown",
   "id": "be0a1702",
   "metadata": {},
   "source": [
    "10 and 100 sample runs omitted due to bad statistics (1000 may be problematic as well since RMS=0); I believe this is because trials are thrown symmetrically in x and y (area of 10x10 = 100) while the MB distribution only has area ~1, so most of the time for 10 and 100 samples, none of them fall under the distribution. I did not want to change the source integration algorithm so that you can use my script canned.\n",
    "\n",
    "The error and RMS do appear to scale as 1/sqrt(ntrials)."
   ]
  },
  {
   "cell_type": "code",
   "execution_count": 30,
   "id": "9358d3be",
   "metadata": {},
   "outputs": [
    {
     "data": {
      "image/png": "[encoded data removed]",
      "text/plain": [
       "<Figure size 432x288 with 1 Axes>"
      ]
     },
     "metadata": {
      "needs_background": "light"
     },
     "output_type": "display_data"
    },
    {
     "data": {
      "image/png": "[encoded data removed]",
      "text/plain": [
       "<Figure size 432x288 with 1 Axes>"
      ]
     },
     "metadata": {
      "needs_background": "light"
     },
     "output_type": "display_data"
    }
   ],
   "source": [
    "samples = np.array([1000, 10000, 100000, 1000000, 10000000])\n",
    "err = np.array([0.001413, 0.00081, 0.000298, 9.8*(10**(-5)), 3.1*(10**(-5))])\n",
    "rms = np.array([0.0, 0.0536578, 0.0298106, 0.00985434, 0.00298336])\n",
    "n = 1000\n",
    "p = 10**(-2) # MC is done over 10x10=100 area, area of MB distribution is ~1\n",
    "\n",
    "plt.xscale(\"log\")\n",
    "plt.yscale(\"log\")\n",
    "plt.scatter(samples, err, label='Estimated Error')\n",
    "x = np.linspace(0.9*samples[0], 1.1*samples[-1], 100)\n",
    "plt.plot(x, np.sqrt( (p * (1-p)) / x ), color='orange', label='Binomial Error') # known binomial error\n",
    "plt.legend(loc='upper right')\n",
    "plt.show()\n",
    "\n",
    "\n",
    "def fit(x, a):\n",
    "    return np.sqrt(a/x)\n",
    "\n",
    "\n",
    "plt.xscale(\"log\")\n",
    "plt.yscale(\"log\")\n",
    "plt.scatter(samples, rms, label='RMS')\n",
    "x = np.linspace(0.9*samples[0], 1.1*samples[-1], 100)\n",
    "plt.plot(x, fit(x, param[0]), color='orange', label='Binomial Error') # known binomial error\n",
    "plt.legend(loc='upper right')\n",
    "plt.show()"
   ]
  },
  {
   "cell_type": "code",
   "execution_count": null,
   "id": "2a3ba2de",
   "metadata": {},
   "outputs": [],
   "source": []
  }
 ],
 "metadata": {
  "kernelspec": {
   "display_name": "Python 3",
   "language": "python",
   "name": "python3"
  },
  "language_info": {
   "codemirror_mode": {
    "name": "ipython",
    "version": 3
   },
   "file_extension": ".py",
   "mimetype": "text/x-python",
   "name": "python",
   "nbconvert_exporter": "python",
   "pygments_lexer": "ipython3",
   "version": "3.7.10"
  },
  "varInspector": {
   "cols": {
    "lenName": 16,
    "lenType": 16,
    "lenVar": 40
   },
   "kernels_config": {
    "python": {
     "delete_cmd_postfix": "",
     "delete_cmd_prefix": "del ",
     "library": "var_list.py",
     "varRefreshCmd": "print(var_dic_list())"
    },
    "r": {
     "delete_cmd_postfix": ") ",
     "delete_cmd_prefix": "rm(",
     "library": "var_list.r",
     "varRefreshCmd": "cat(var_dic_list()) "
    }
   },
   "types_to_exclude": [
    "module",
    "function",
    "builtin_function_or_method",
    "instance",
    "_Feature"
   ],
   "window_display": false
  }
 },
 "nbformat": 4,
 "nbformat_minor": 5
}
